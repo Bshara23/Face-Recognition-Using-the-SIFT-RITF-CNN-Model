{
 "cells": [
  {
   "cell_type": "markdown",
   "metadata": {
    "colab_type": "text",
    "id": "Ly0MRAXkUKc-"
   },
   "source": [
    "# Face Recognition using VGG16 and SIFT descriptors\n",
    "based on paper: Face Recognition Using the SR-CNN Model"
   ]
  },
  {
   "cell_type": "markdown",
   "metadata": {
    "colab_type": "text",
    "id": "D-ETOE6pUmVE"
   },
   "source": [
    "# Connect to drive"
   ]
  },
  {
   "cell_type": "markdown",
   "metadata": {
    "colab_type": "text",
    "id": "7lZswQ6_VX9T"
   },
   "source": [
    "# Import libraries"
   ]
  },
  {
   "cell_type": "code",
   "execution_count": 1,
   "metadata": {
    "colab": {
     "base_uri": "https://localhost:8080/",
     "height": 34
    },
    "colab_type": "code",
    "id": "pu2b-UA-UyVs",
    "outputId": "02e0c5f7-79d1-4a49-e48c-baf0eedc011b"
   },
   "outputs": [],
   "source": [
    "import os\n",
    "\n",
    "import numpy as np\n",
    "import pandas as pd \n",
    "from sklearn.model_selection import train_test_split\n",
    "\n",
    "import cv2\n",
    "\n",
    "import matplotlib.pyplot as plt\n",
    "from datetime import datetime\n",
    "import io\n",
    "import itertools\n",
    "from packaging import version\n",
    "\n",
    "\n",
    "\n",
    "import sklearn.metrics\n"
   ]
  },
  {
   "cell_type": "code",
   "execution_count": null,
   "metadata": {},
   "outputs": [],
   "source": [
    "def normalize_mean_var(arr):\n",
    "    arr -= np.mean(arr)\n",
    "    arr /= np.var(arr)\n",
    "    return arr"
   ]
  },
  {
   "cell_type": "code",
   "execution_count": null,
   "metadata": {},
   "outputs": [],
   "source": [
    "# load only persons with more than 100\n",
    "number_of_images = 50\n",
    "iter_csv = pd.read_csv(\"LFW/lfw_allnames.csv\", iterator=True, chunksize=1000)\n",
    "df = pd.concat([chunk[chunk['images'] > number_of_images] for chunk in iter_csv])\n",
    "\n",
    "topNames = set([x for x in df['name']])\n",
    "#names.add('Bshara')\n",
    "len(topNames)"
   ]
  },
  {
   "cell_type": "markdown",
   "metadata": {
    "colab_type": "text",
    "id": "LgU9YNYrVS71"
   },
   "source": [
    "# Prepare data"
   ]
  },
  {
   "cell_type": "markdown",
   "metadata": {
    "colab_type": "text",
    "id": "Icx4hb1aVwO4"
   },
   "source": [
    "Generators"
   ]
  },
  {
   "cell_type": "code",
   "execution_count": null,
   "metadata": {},
   "outputs": [],
   "source": [
    "#topNames = ('Tony_Blair','George_W_Bush', 'Gerhard_Schroeder', 'Donald_Rumsfeld', 'Colin_Powell', 'Bshara')\n",
    "\n",
    "train_data_dir = \"LFW/lfw-deepfunneled/lfw-deepfunneled\"\n",
    "img_width = img_height = 224\n",
    "batch_size = 20\n",
    "\n",
    "train_datagen = ImageDataGenerator( rescale = 1./255, validation_split=0.2) # set validation split\n",
    "\n",
    "train_generator = train_datagen.flow_from_directory(\n",
    "    train_data_dir,\n",
    "    target_size=(img_height, img_width),\n",
    "    batch_size=batch_size,\n",
    "    classes=topNames,\n",
    "    class_mode='categorical',\n",
    "    subset='training') # set as training data\n",
    "\n",
    "\n",
    "validation_generator = train_datagen.flow_from_directory(\n",
    "    train_data_dir, # same directory as training data\n",
    "    target_size=(img_height, img_width),\n",
    "    batch_size=batch_size,\n",
    "    classes=topNames,\n",
    "    class_mode='categorical',\n",
    "    subset='validation') # set as validation data\n",
    "\n",
    "\n"
   ]
  },
  {
   "cell_type": "code",
   "execution_count": null,
   "metadata": {},
   "outputs": [],
   "source": [
    "# import the necessary packages\n",
    "from skimage import feature\n",
    "import numpy as np\n",
    "class LocalBinaryPatterns:\n",
    "    def __init__(self, numPoints, radius):\n",
    "        # store the number of points and radius\n",
    "        self.numPoints = numPoints\n",
    "        self.radius = radius\n",
    "    def describe(self, image, eps=1e-7):\n",
    "        # compute the Local Binary Pattern representation\n",
    "        # of the image, and then use the LBP representation\n",
    "        # to build the histogram of patterns\n",
    "        lbp = feature.local_binary_pattern(image, self.numPoints,\n",
    "        self.radius, method=\"ror\")\n",
    "        (hist, _) = np.histogram(lbp.ravel(),\n",
    "        bins=np.arange(0, self.numPoints + 3),\n",
    "        range=(0, self.numPoints + 2))\n",
    "        # normalize the histogram\n",
    "        hist = hist.astype(\"float\")\n",
    "        hist /= (hist.sum() + eps)\n",
    "        # return the histogram of Local Binary Patterns\n",
    "        return hist\n",
    "\n"
   ]
  },
  {
   "cell_type": "code",
   "execution_count": null,
   "metadata": {},
   "outputs": [],
   "source": [
    "import math\n",
    "D = math.sqrt(224**2 + 224**2)\n",
    "r = 16\n",
    "m = 32\n",
    "ritf_desc = LocalBinaryPatterns(m-2, r)\n",
    "\n",
    "def get_image_histogram(img, ritf_desc):\n",
    "\n",
    "   \n",
    "    img = cv2.normalize(img, None, 0, 255, cv2.NORM_MINMAX).astype('uint8')\n",
    "    \n",
    "    # load the image, convert it to grayscale, and describe it\n",
    "    gray = cv2.cvtColor(img, cv2.COLOR_BGR2GRAY)\n",
    "    ritf = ritf_desc.describe(gray)\n",
    "    \n",
    "    return ritf\n"
   ]
  },
  {
   "cell_type": "markdown",
   "metadata": {},
   "source": [
    "# Preprocessing data"
   ]
  },
  {
   "cell_type": "code",
   "execution_count": null,
   "metadata": {},
   "outputs": [],
   "source": [
    "from IPython.display import clear_output\n"
   ]
  },
  {
   "cell_type": "code",
   "execution_count": null,
   "metadata": {},
   "outputs": [],
   "source": [
    "def preprocess(gen, ritf_desc):\n",
    "    res = []\n",
    "    for i in range(len(gen)):\n",
    "        clear_output(wait=True)\n",
    "        print(\"{}/{}\".format(i, len(gen)))\n",
    "        x, y = gen[i]\n",
    "        #sift = np.asarray([get_image_histogram(img, ritf_desc) for img in x])\n",
    "        res.append([x, y])\n",
    "    return np.asarray(res)\n"
   ]
  },
  {
   "cell_type": "code",
   "execution_count": null,
   "metadata": {},
   "outputs": [],
   "source": [
    "traing_data = preprocess(train_generator, ritf_desc)\n",
    "valid_data = preprocess(validation_generator, ritf_desc)"
   ]
  },
  {
   "cell_type": "code",
   "execution_count": null,
   "metadata": {},
   "outputs": [],
   "source": [
    "train_path = \"npy_saves/Train_imc_50.npy\"\n",
    "valid_path = \"npy_saves/valid_imc_50.npy\"\n",
    "\n",
    "np.save(train_path, traing_data)\n",
    "np.save(valid_path, valid_data)"
   ]
  },
  {
   "cell_type": "code",
   "execution_count": null,
   "metadata": {},
   "outputs": [],
   "source": [
    "traing_data[0][0].shape"
   ]
  },
  {
   "cell_type": "markdown",
   "metadata": {
    "colab_type": "text",
    "id": "yHQodoWNWutL"
   },
   "source": [
    "# Training"
   ]
  },
  {
   "cell_type": "code",
   "execution_count": null,
   "metadata": {},
   "outputs": [],
   "source": [
    "def label_converter(arr):\n",
    "    for i in range(len(arr)):\n",
    "        if arr[i] == 1:\n",
    "            return i\n",
    "    return -1"
   ]
  },
  {
   "cell_type": "code",
   "execution_count": null,
   "metadata": {},
   "outputs": [],
   "source": [
    "def remove_batches(arr):\n",
    "    X = []\n",
    "    y = []\n",
    "    for j in range(len(arr)):\n",
    "        batch = arr[j]\n",
    "        for i in range(len(batch[0])):\n",
    "            gray = cv2.cvtColor(batch[0][i], cv2.COLOR_BGR2GRAY)\n",
    "            X.append(gray)\n",
    "            y.append(label_converter(batch[1][i]))\n",
    "        \n",
    "    return np.asarray(X), np.asarray(y)"
   ]
  },
  {
   "cell_type": "code",
   "execution_count": null,
   "metadata": {},
   "outputs": [],
   "source": [
    "X_traing, y_training = remove_batches(traing_data)"
   ]
  },
  {
   "cell_type": "code",
   "execution_count": null,
   "metadata": {},
   "outputs": [],
   "source": [
    "X_validation, y_validation = remove_batches(valid_data)"
   ]
  },
  {
   "cell_type": "code",
   "execution_count": null,
   "metadata": {},
   "outputs": [],
   "source": [
    "import matplotlib.pyplot as plt\n",
    "from sklearn.metrics import plot_confusion_matrix\n",
    "\n",
    "def confusion_matrix(model, X_test, y_test, title):\n",
    "    disp = plot_confusion_matrix(model, X_test, y_test,\n",
    "                                display_labels=[x for x in range(len(topNames))],\n",
    "                                cmap=plt.cm.Blues,\n",
    "                                normalize='true')\n",
    "    disp.ax_.set_title('Confusion matrix: ' + title)"
   ]
  },
  {
   "cell_type": "code",
   "execution_count": null,
   "metadata": {},
   "outputs": [],
   "source": [
    "from sklearn.ensemble import RandomForestClassifier\n",
    "from sklearn import metrics\n",
    "\n",
    "clf = RandomForestClassifier(n_estimators = 100)\n",
    "clf.fit(X_traing_hists, y_training)\n",
    "\n",
    "pred = clf.predict(X_valid_hists)\n",
    "cnf_matrix = metrics.confusion_matrix(y_validation, pred)\n",
    "RF_acc = metrics.accuracy_score(y_validation, pred)\n",
    "\n",
    "print(\"Random Forest Accuracy:\", RF_acc)\n",
    "confusion_matrix(clf, X_valid_hists, y_validation, \"Random Forst\")"
   ]
  },
  {
   "cell_type": "code",
   "execution_count": null,
   "metadata": {},
   "outputs": [],
   "source": [
    "from sklearn.svm import LinearSVC\n",
    "# train a Linear SVM on the data\n",
    "model = LinearSVC(C=100.0, random_state=42)\n",
    "model.fit(X_traing_hists, y_training)\n",
    "\n",
    "pred = model.predict(X_valid_hists)\n",
    "cnf_matrix = metrics.confusion_matrix(y_validation, pred)\n",
    "RF_acc = metrics.accuracy_score(y_validation, pred)\n",
    "\n",
    "print(\"Random Forest Accuracy:\", RF_acc)\n",
    "confusion_matrix(model, X_valid_hists, y_validation, \"Random Forst\")"
   ]
  },
  {
   "cell_type": "code",
   "execution_count": null,
   "metadata": {},
   "outputs": [],
   "source": [
    "imgs = train_generator[0][0]\n",
    "fig=plt.figure(figsize=(3, 3))\n",
    "plt.imshow(imgs[0])\n",
    "plt.show()"
   ]
  },
  {
   "cell_type": "code",
   "execution_count": null,
   "metadata": {},
   "outputs": [],
   "source": [
    "model = cv2.face.LBPHFaceRecognizer_create(radius=16, neighbors=1)\n",
    "model.train(X_traing, y_training)"
   ]
  },
  {
   "cell_type": "code",
   "execution_count": null,
   "metadata": {},
   "outputs": [],
   "source": [
    "len(X_traing)"
   ]
  },
  {
   "cell_type": "code",
   "execution_count": null,
   "metadata": {},
   "outputs": [],
   "source": [
    "model.getHistograms()[0].shape"
   ]
  },
  {
   "cell_type": "code",
   "execution_count": null,
   "metadata": {},
   "outputs": [],
   "source": [
    "def getHistogramss(X_data, y_data, rad, neig):\n",
    "    model = cv2.face.LBPHFaceRecognizer_create(radius=rad, neighbors=neig)\n",
    "    model.train(X_data, y_data)\n",
    "    X = []\n",
    "    arr = model.getHistograms()\n",
    "    for i, h in enumerate(arr):\n",
    "        hist = h[0]\n",
    "        X.append(hist)\n",
    "    return X\n",
    "\n",
    "d = {}\n",
    "for i in range(1, 15):\n",
    "\n",
    "    for j in range(1, 15):\n",
    "        X_traing_hists = getHistogramss(X_traing, y_training, j, i)     \n",
    "        X_valid_hists = getHistogramss(X_validation, y_validation, j, i)\n",
    "\n",
    "        from sklearn.svm import LinearSVC\n",
    "        # train a Linear SVM on the data\n",
    "        model = LinearSVC(C=100.0, random_state=42)\n",
    "        model.fit(X_traing_hists, y_training)\n",
    "\n",
    "        pred = model.predict(X_valid_hists)\n",
    "        cnf_matrix = metrics.confusion_matrix(y_validation, pred)\n",
    "        RF_acc = metrics.accuracy_score(y_validation, pred)\n",
    "        d[(j, i)] = RF_acc\n",
    "        print(\"Random Forest Accuracy in rad={}, neig={}: {}\".format(j, i, RF_acc))\n",
    "    #confusion_matrix(model, X_valid_hists, y_validation, \"Random Forst\")\n",
    "        "
   ]
  },
  {
   "cell_type": "code",
   "execution_count": null,
   "metadata": {},
   "outputs": [],
   "source": [
    "# prepare model\n",
    "i, j = 8, 9\n",
    "X_traing_hists = getHistogramss(X_traing, y_training, j, i)     \n",
    "X_valid_hists = getHistogramss(X_validation, y_validation, j, i)\n",
    "\n",
    "from sklearn.svm import LinearSVC\n",
    "# train a Linear SVM on the data\n",
    "model = LinearSVC(C=100.0, random_state=42)\n",
    "model.fit(X_traing_hists, y_training)\n",
    "\n",
    "pred = model.predict(X_valid_hists)\n",
    "cnf_matrix = metrics.confusion_matrix(y_validation, pred)\n",
    "RF_acc = metrics.accuracy_score(y_validation, pred)\n",
    "d[(j, i)] = RF_acc\n",
    "print(\"Random Forest Accuracy in rad={}, neig={}: {}\".format(j, i, RF_acc))"
   ]
  },
  {
   "cell_type": "code",
   "execution_count": null,
   "metadata": {},
   "outputs": [],
   "source": [
    "# number of features is 16384\n",
    "len(X_traing_hists[0])"
   ]
  },
  {
   "cell_type": "code",
   "execution_count": null,
   "metadata": {},
   "outputs": [],
   "source": [
    "# feature selection\n",
    "from sklearn.feature_selection import RFE\n",
    "estimator = LinearSVC(C=100.0, random_state=42, max_iter=2000)\n",
    "selector = RFE(estimator, n_features_to_select=128, step=64, verbose=1)\n",
    "selector = selector.fit(X_traing_hists, y_training)\n",
    "print(selector.support_)\n",
    "print(selector.ranking_)"
   ]
  },
  {
   "cell_type": "code",
   "execution_count": null,
   "metadata": {},
   "outputs": [],
   "source": [
    "def get_selected_features(dataArr, trueValues):\n",
    "    res = []\n",
    "    for i, v in enumerate(dataArr):\n",
    "        if trueValues[i]:\n",
    "            res.append(v)\n",
    "    return np.asarray(res)\n",
    "\n",
    "def get_selected_features_mat(dataMat, trueValues):\n",
    "    res = []\n",
    "    for v in dataMat:\n",
    "        res.append(get_selected_features(v, trueValues))\n",
    "    return res\n",
    "        \n",
    "X_traing_hists_reduced = get_selected_features_mat(X_traing_hists, selector.support_)\n",
    "X_valid_hists_reduced = get_selected_features_mat(X_valid_hists, selector.support_)"
   ]
  },
  {
   "cell_type": "code",
   "execution_count": null,
   "metadata": {},
   "outputs": [],
   "source": [
    "\n",
    "from sklearn.svm import LinearSVC\n",
    "# train a Linear SVM on the data\n",
    "model = LinearSVC(C=100.0, random_state=42, max_iter=10000)\n",
    "model.fit(X_traing_hists_reduced, y_training)\n",
    "\n",
    "pred = model.predict(X_valid_hists_reduced)\n",
    "cnf_matrix = metrics.confusion_matrix(y_validation, pred)\n",
    "RF_acc = metrics.accuracy_score(y_validation, pred)\n",
    "print(\"LinearSVC Accuracy: {}\".format(RF_acc))\n",
    "confusion_matrix(model, X_valid_hists_reduced, y_validation, \"LinearSVC\")\n"
   ]
  },
  {
   "cell_type": "markdown",
   "metadata": {},
   "source": [
    "# Saving"
   ]
  },
  {
   "cell_type": "code",
   "execution_count": null,
   "metadata": {},
   "outputs": [],
   "source": [
    "ritf_hist_train_path = \"npy_saves/RITF_hist_reduced_128_train_imc_50.npy\"\n",
    "ritf_hist_valid_path = \"npy_saves/RITF_hist_reduced_128_valid_imc_50.npy\"\n",
    "\n",
    "np.save(ritf_hist_train_path, X_traing_hists_reduced)\n",
    "np.save(ritf_hist_valid_path, X_valid_hists_reduced)"
   ]
  },
  {
   "cell_type": "code",
   "execution_count": null,
   "metadata": {},
   "outputs": [],
   "source": [
    "feature_sel = selector.support_[:]\n",
    "feature_sel = np.asarray(feature_sel)\n",
    "ritf_feature_selection_path = \"npy_saves/RITF_feature_selection_128_valid_imc_50.npy\"\n",
    "np.save(ritf_feature_selection_path, feature_sel)"
   ]
  },
  {
   "cell_type": "code",
   "execution_count": null,
   "metadata": {},
   "outputs": [],
   "source": [
    "train_path = \"npy_saves/Train_imc_50.npy\"\n",
    "valid_path = \"npy_saves/valid_imc_50.npy\"\n",
    "\n",
    "np.save(train_path, traing_data)\n",
    "np.save(valid_path, valid_data)"
   ]
  },
  {
   "cell_type": "code",
   "execution_count": null,
   "metadata": {},
   "outputs": [],
   "source": [
    "y_train_path = \"npy_saves/y_train_imc_50.npy\"\n",
    "y_valid_path = \"npy_saves/y_valid_imc_50.npy\"\n",
    "\n",
    "np.save(y_train_path, y_training)\n",
    "np.save(y_valid_path, y_validation)"
   ]
  },
  {
   "cell_type": "markdown",
   "metadata": {},
   "source": [
    "# Loading the data"
   ]
  },
  {
   "cell_type": "code",
   "execution_count": 2,
   "metadata": {},
   "outputs": [],
   "source": [
    "ritf_hist_train_path = \"npy_saves/RITF_hist_reduced_128_train_imc_50.npy\"\n",
    "ritf_hist_valid_path = \"npy_saves/RITF_hist_reduced_128_valid_imc_50.npy\"\n",
    "\n",
    "X_traing_hists_reduced = np.load(ritf_hist_train_path)\n",
    "X_valid_hists_reduced = np.load(ritf_hist_valid_path)"
   ]
  },
  {
   "cell_type": "code",
   "execution_count": 3,
   "metadata": {},
   "outputs": [],
   "source": [
    "y_train_path = \"npy_saves/y_train_imc_50.npy\"\n",
    "y_valid_path = \"npy_saves/y_valid_imc_50.npy\"\n",
    "\n",
    "y_training = np.load(y_train_path)\n",
    "y_validation = np.load(y_valid_path)"
   ]
  },
  {
   "cell_type": "markdown",
   "metadata": {},
   "source": [
    "# Training"
   ]
  },
  {
   "cell_type": "code",
   "execution_count": 11,
   "metadata": {},
   "outputs": [],
   "source": [
    "import matplotlib.pyplot as plt\n",
    "from sklearn.metrics import plot_confusion_matrix\n",
    "\n",
    "def confusion_matrix(model, X_test, y_test, title):\n",
    "    disp = plot_confusion_matrix(model, X_test, y_test,\n",
    "                                cmap=plt.cm.Blues,\n",
    "                                normalize='true')\n",
    "    disp.ax_.set_title('Confusion matrix: ' + title)"
   ]
  },
  {
   "cell_type": "code",
   "execution_count": 12,
   "metadata": {},
   "outputs": [
    {
     "name": "stdout",
     "output_type": "stream",
     "text": [
      "Random Forest Accuracy: 0.788961038961039\n"
     ]
    },
    {
     "data": {
      "image/png": "[encoded data removed]",
      "text/plain": [
       "<Figure size 432x288 with 2 Axes>"
      ]
     },
     "metadata": {
      "needs_background": "light"
     },
     "output_type": "display_data"
    }
   ],
   "source": [
    "from sklearn.ensemble import RandomForestClassifier\n",
    "from sklearn import metrics\n",
    "\n",
    "clf = RandomForestClassifier(n_estimators = 100)\n",
    "clf.fit(X_traing_hists_reduced, y_training)\n",
    "\n",
    "pred = clf.predict(X_valid_hists_reduced)\n",
    "cnf_matrix = metrics.confusion_matrix(y_validation, pred)\n",
    "RF_acc = metrics.accuracy_score(y_validation, pred)\n",
    "\n",
    "print(\"Random Forest Accuracy:\", RF_acc)\n",
    "confusion_matrix(clf, X_valid_hists_reduced, y_validation, \"Random Forst\")"
   ]
  },
  {
   "cell_type": "code",
   "execution_count": null,
   "metadata": {},
   "outputs": [],
   "source": [
    "def SVM_classification(X_train, X_test, y_train, y_test):\n",
    "    #SVM\n",
    "    from sklearn.svm import SVC\n",
    "\n",
    "    for kernel in ('linear', 'poly', 'rbf', 'sigmoid'):\n",
    "        svc= SVC(kernel = kernel)\n",
    "\n",
    "        svc.fit(X_train, y_train)\n",
    "        svcpred = svc.predict(X_test)\n",
    "        cnf_matrix = metrics.confusion_matrix(y_test, svcpred)\n",
    "        SVC_acc = metrics.accuracy_score(y_test, svcpred)\n",
    "\n",
    "        print('SVC (kernel = {}): '.format(kernel),SVC_acc)\n",
    "        title = 'SVC (kernel = {}): '.format(kernel)\n",
    "        confusion_matrix(svc, X_test, y_test, title)\n",
    "        \n",
    "SVM_classification(X_traing_hists_reduced, X_valid_hists_reduced, y_training, y_validation)"
   ]
  }
 ],
 "metadata": {
  "accelerator": "GPU",
  "colab": {
   "collapsed_sections": [],
   "name": "Face Recognition Project - CNN VGG16.ipynb",
   "provenance": [],
   "toc_visible": true
  },
  "kernelspec": {
   "display_name": "tfenv",
   "language": "python",
   "name": "tfenv"
  },
  "language_info": {
   "codemirror_mode": {
    "name": "ipython",
    "version": 3
   },
   "file_extension": ".py",
   "mimetype": "text/x-python",
   "name": "python",
   "nbconvert_exporter": "python",
   "pygments_lexer": "ipython3",
   "version": "3.5.6"
  }
 },
 "nbformat": 4,
 "nbformat_minor": 4
}
